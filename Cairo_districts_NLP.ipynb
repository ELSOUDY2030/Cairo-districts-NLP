{
  "nbformat": 4,
  "nbformat_minor": 0,
  "metadata": {
    "colab": {
      "provenance": []
    },
    "kernelspec": {
      "name": "python3",
      "display_name": "Python 3"
    },
    "language_info": {
      "name": "python"
    }
  },
  "cells": [
    {
      "cell_type": "markdown",
      "source": [
        "**Use API to Generate Dataset**"
      ],
      "metadata": {
        "id": "ehLmsKPDa61h"
      }
    },
    {
      "cell_type": "code",
      "source": [
        "import requests\n",
        "import json\n",
        "from pandas import json_normalize\n",
        "import numpy as np\n",
        "import pandas as pd"
      ],
      "metadata": {
        "id": "fs9FQ_Dz6daw"
      },
      "execution_count": 1,
      "outputs": []
    },
    {
      "cell_type": "code",
      "source": [
        "file_path = 'Cairo.txt'\n",
        "with open(file_path, 'r') as file:\n",
        "    data = file.read()\n",
        "data_cairo = data.split(\"\\n\")\n",
        "data_cairo = data_cairo[0:-1]\n",
        "file_path = 'alx.txt'\n",
        "with open(file_path, 'r') as file:\n",
        "    data = file.read()\n",
        "\n",
        "data_alx = data.split(\"\\n\")"
      ],
      "metadata": {
        "id": "g9gi2KStt5mr"
      },
      "execution_count": 2,
      "outputs": []
    },
    {
      "cell_type": "code",
      "source": [
        "data = pd.DataFrame()\n",
        "for dis in data_cairo:\n",
        "  host=f\"https://discover.search.hereapi.com/v1/discover?apiKey=1Tc-qYVyM6_LuhpAdsF5I30uEohILIAFCaP9e3WLmf0&at=30.04427,31.23525&q=[{dis}]&languages=ar-US\"\n",
        "  text=requests.get(url=host)\n",
        "  text.content\n",
        "  dic = text.json()\n",
        "  data = pd.concat([data, json_normalize(dic['items']) ])\n",
        ""
      ],
      "metadata": {
        "id": "6GdGPNTPuGiR"
      },
      "execution_count": 3,
      "outputs": []
    },
    {
      "cell_type": "code",
      "source": [
        "df_cairo=data"
      ],
      "metadata": {
        "id": "gHl3LW5pzj9z"
      },
      "execution_count": 4,
      "outputs": []
    },
    {
      "cell_type": "code",
      "source": [
        "df_cairo[\"address.city\"].unique()\n"
      ],
      "metadata": {
        "colab": {
          "base_uri": "https://localhost:8080/"
        },
        "id": "VGF0-wGGsioD",
        "outputId": "34702c7b-3d59-446c-eed4-3c8ed0043177"
      },
      "execution_count": 5,
      "outputs": [
        {
          "output_type": "execute_result",
          "data": {
            "text/plain": [
              "array(['التبين', 'حلوان', 'مركز بلقاس', '15 مايو', 'طرة', 'المعادى',\n",
              "       'القاهرة', 'إمبابة', 'العمرانية', 'بولاق الدكرور',\n",
              "       'شبرا الخيمة قسم 2', 'العجوزة', 'مركز ابو طشت', 'المرج', nan,\n",
              "       'الجيزة', 'القاهرة الجديدة', 'بدر'], dtype=object)"
            ]
          },
          "metadata": {},
          "execution_count": 5
        }
      ]
    },
    {
      "cell_type": "code",
      "source": [
        "df_cairo = df_cairo[[\"address.label\", \"address.city\"]]\n",
        "df_cairo = df_cairo[df_cairo['address.city']!='مركز بلقاس']\n",
        "df_cairo = df_cairo[df_cairo['address.city']!='مركز ابو طشت']\n",
        "df_cairo = df_cairo[df_cairo['address.city']!=np.nan]\n",
        "df_cairo.dropna(inplace=True)\n",
        "df_cairo['label'] = 1\n",
        "df_cairo[\"address.city\"].unique()"
      ],
      "metadata": {
        "colab": {
          "base_uri": "https://localhost:8080/"
        },
        "id": "bpPd4P5OsypP",
        "outputId": "8ccf17ae-716b-48c0-df40-ba19c65486aa"
      },
      "execution_count": 6,
      "outputs": [
        {
          "output_type": "execute_result",
          "data": {
            "text/plain": [
              "array(['التبين', 'حلوان', '15 مايو', 'طرة', 'المعادى', 'القاهرة',\n",
              "       'إمبابة', 'العمرانية', 'بولاق الدكرور', 'شبرا الخيمة قسم 2',\n",
              "       'العجوزة', 'المرج', 'الجيزة', 'القاهرة الجديدة', 'بدر'],\n",
              "      dtype=object)"
            ]
          },
          "metadata": {},
          "execution_count": 6
        }
      ]
    },
    {
      "cell_type": "code",
      "source": [
        "values_to_check = list(df_cairo[\"address.city\"].unique())+data_cairo\n",
        "values_to_check"
      ],
      "metadata": {
        "colab": {
          "base_uri": "https://localhost:8080/"
        },
        "id": "E2sDkdUk3Bas",
        "outputId": "887e7cd2-c6af-47ca-ac08-3b30d546ec90"
      },
      "execution_count": 7,
      "outputs": [
        {
          "output_type": "execute_result",
          "data": {
            "text/plain": [
              "['التبين',\n",
              " 'حلوان',\n",
              " '15 مايو',\n",
              " 'طرة',\n",
              " 'المعادى',\n",
              " 'القاهرة',\n",
              " 'إمبابة',\n",
              " 'العمرانية',\n",
              " 'بولاق الدكرور',\n",
              " 'شبرا الخيمة قسم 2',\n",
              " 'العجوزة',\n",
              " 'المرج',\n",
              " 'الجيزة',\n",
              " 'القاهرة الجديدة',\n",
              " 'بدر',\n",
              " 'التبين',\n",
              " 'حلوان',\n",
              " 'المعصرة',\n",
              " 'خمسة عشر مايو',\n",
              " 'طره',\n",
              " 'المعادى',\n",
              " 'البساتين',\n",
              " 'دار السلام',\n",
              " 'مصر القديمة',\n",
              " 'السيدة زينب',\n",
              " 'الخليفة',\n",
              " 'المقطم',\n",
              " 'منشأة ناصر',\n",
              " 'الدرب الاحمر',\n",
              " 'الموسكى',\n",
              " 'عابدين',\n",
              " 'قصر النيل',\n",
              " 'الزمالك',\n",
              " 'بولاق',\n",
              " 'الازبكية',\n",
              " 'باب الشعرية',\n",
              " 'الجمالية',\n",
              " 'الظاهر',\n",
              " 'الوايلى',\n",
              " 'حدائق القبة',\n",
              " 'الشرابية',\n",
              " 'شبرا',\n",
              " 'روض الفرج',\n",
              " 'الساحل',\n",
              " 'الزاوية الحمراء',\n",
              " 'الاميرية',\n",
              " 'الزيتون',\n",
              " 'المطرية',\n",
              " 'عين شمس',\n",
              " 'المرج',\n",
              " 'أول السلام',\n",
              " 'ثان السلام',\n",
              " 'النزهة',\n",
              " 'مصر الجديدة',\n",
              " 'أول مدينة نصر',\n",
              " 'ثان مدينة نصر',\n",
              " 'التجمع الخامس',\n",
              " 'أول القاهره الجديده',\n",
              " 'التجمع الاول',\n",
              " 'ثان القاهره الجديده',\n",
              " 'القطامية',\n",
              " 'ثالث القاهره الجديده',\n",
              " 'الشروق',\n",
              " 'مدينه بدر']"
            ]
          },
          "metadata": {},
          "execution_count": 7
        }
      ]
    },
    {
      "cell_type": "code",
      "source": [
        "df_cairo"
      ],
      "metadata": {
        "id": "RhdHDdExQ7dA",
        "colab": {
          "base_uri": "https://localhost:8080/",
          "height": 423
        },
        "outputId": "0fff706e-34a3-404f-d7ff-d440ba830f2b"
      },
      "execution_count": 8,
      "outputs": [
        {
          "output_type": "execute_result",
          "data": {
            "text/plain": [
              "                                       address.label     address.city  label\n",
              "0                                        التبين, مصر           التبين      1\n",
              "0                                         حلوان, مصر            حلوان      1\n",
              "0                          المعصرة البلد, حلوان, مصر            حلوان      1\n",
              "1                         المعصرة المحطة, حلوان, مصر            حلوان      1\n",
              "0                                       15 مايو, مصر          15 مايو      1\n",
              "..                                               ...              ...    ...\n",
              "0                               القاهرة الجديدة, مصر  القاهرة الجديدة      1\n",
              "0                       الشروق, القاهرة الجديدة, مصر  القاهرة الجديدة      1\n",
              "0    بدر, شارع الانشراح الصغير, العجوزة, الجيزة, مصر          العجوزة      1\n",
              "1   جهاز مدينة بدر, شارع ابن سينا, بدر, القاهرة, مصر              بدر      1\n",
              "2         بدر, حارة السيد علي, القاهرة, القاهرة, مصر          القاهرة      1\n",
              "\n",
              "[96 rows x 3 columns]"
            ],
            "text/html": [
              "\n",
              "  <div id=\"df-1603982e-f7d2-4f3c-9c73-c6b8249c02b1\" class=\"colab-df-container\">\n",
              "    <div>\n",
              "<style scoped>\n",
              "    .dataframe tbody tr th:only-of-type {\n",
              "        vertical-align: middle;\n",
              "    }\n",
              "\n",
              "    .dataframe tbody tr th {\n",
              "        vertical-align: top;\n",
              "    }\n",
              "\n",
              "    .dataframe thead th {\n",
              "        text-align: right;\n",
              "    }\n",
              "</style>\n",
              "<table border=\"1\" class=\"dataframe\">\n",
              "  <thead>\n",
              "    <tr style=\"text-align: right;\">\n",
              "      <th></th>\n",
              "      <th>address.label</th>\n",
              "      <th>address.city</th>\n",
              "      <th>label</th>\n",
              "    </tr>\n",
              "  </thead>\n",
              "  <tbody>\n",
              "    <tr>\n",
              "      <th>0</th>\n",
              "      <td>التبين, مصر</td>\n",
              "      <td>التبين</td>\n",
              "      <td>1</td>\n",
              "    </tr>\n",
              "    <tr>\n",
              "      <th>0</th>\n",
              "      <td>حلوان, مصر</td>\n",
              "      <td>حلوان</td>\n",
              "      <td>1</td>\n",
              "    </tr>\n",
              "    <tr>\n",
              "      <th>0</th>\n",
              "      <td>المعصرة البلد, حلوان, مصر</td>\n",
              "      <td>حلوان</td>\n",
              "      <td>1</td>\n",
              "    </tr>\n",
              "    <tr>\n",
              "      <th>1</th>\n",
              "      <td>المعصرة المحطة, حلوان, مصر</td>\n",
              "      <td>حلوان</td>\n",
              "      <td>1</td>\n",
              "    </tr>\n",
              "    <tr>\n",
              "      <th>0</th>\n",
              "      <td>15 مايو, مصر</td>\n",
              "      <td>15 مايو</td>\n",
              "      <td>1</td>\n",
              "    </tr>\n",
              "    <tr>\n",
              "      <th>...</th>\n",
              "      <td>...</td>\n",
              "      <td>...</td>\n",
              "      <td>...</td>\n",
              "    </tr>\n",
              "    <tr>\n",
              "      <th>0</th>\n",
              "      <td>القاهرة الجديدة, مصر</td>\n",
              "      <td>القاهرة الجديدة</td>\n",
              "      <td>1</td>\n",
              "    </tr>\n",
              "    <tr>\n",
              "      <th>0</th>\n",
              "      <td>الشروق, القاهرة الجديدة, مصر</td>\n",
              "      <td>القاهرة الجديدة</td>\n",
              "      <td>1</td>\n",
              "    </tr>\n",
              "    <tr>\n",
              "      <th>0</th>\n",
              "      <td>بدر, شارع الانشراح الصغير, العجوزة, الجيزة, مصر</td>\n",
              "      <td>العجوزة</td>\n",
              "      <td>1</td>\n",
              "    </tr>\n",
              "    <tr>\n",
              "      <th>1</th>\n",
              "      <td>جهاز مدينة بدر, شارع ابن سينا, بدر, القاهرة, مصر</td>\n",
              "      <td>بدر</td>\n",
              "      <td>1</td>\n",
              "    </tr>\n",
              "    <tr>\n",
              "      <th>2</th>\n",
              "      <td>بدر, حارة السيد علي, القاهرة, القاهرة, مصر</td>\n",
              "      <td>القاهرة</td>\n",
              "      <td>1</td>\n",
              "    </tr>\n",
              "  </tbody>\n",
              "</table>\n",
              "<p>96 rows × 3 columns</p>\n",
              "</div>\n",
              "    <div class=\"colab-df-buttons\">\n",
              "\n",
              "  <div class=\"colab-df-container\">\n",
              "    <button class=\"colab-df-convert\" onclick=\"convertToInteractive('df-1603982e-f7d2-4f3c-9c73-c6b8249c02b1')\"\n",
              "            title=\"Convert this dataframe to an interactive table.\"\n",
              "            style=\"display:none;\">\n",
              "\n",
              "  <svg xmlns=\"http://www.w3.org/2000/svg\" height=\"24px\" viewBox=\"0 -960 960 960\">\n",
              "    <path d=\"M120-120v-720h720v720H120Zm60-500h600v-160H180v160Zm220 220h160v-160H400v160Zm0 220h160v-160H400v160ZM180-400h160v-160H180v160Zm440 0h160v-160H620v160ZM180-180h160v-160H180v160Zm440 0h160v-160H620v160Z\"/>\n",
              "  </svg>\n",
              "    </button>\n",
              "\n",
              "  <style>\n",
              "    .colab-df-container {\n",
              "      display:flex;\n",
              "      gap: 12px;\n",
              "    }\n",
              "\n",
              "    .colab-df-convert {\n",
              "      background-color: #E8F0FE;\n",
              "      border: none;\n",
              "      border-radius: 50%;\n",
              "      cursor: pointer;\n",
              "      display: none;\n",
              "      fill: #1967D2;\n",
              "      height: 32px;\n",
              "      padding: 0 0 0 0;\n",
              "      width: 32px;\n",
              "    }\n",
              "\n",
              "    .colab-df-convert:hover {\n",
              "      background-color: #E2EBFA;\n",
              "      box-shadow: 0px 1px 2px rgba(60, 64, 67, 0.3), 0px 1px 3px 1px rgba(60, 64, 67, 0.15);\n",
              "      fill: #174EA6;\n",
              "    }\n",
              "\n",
              "    .colab-df-buttons div {\n",
              "      margin-bottom: 4px;\n",
              "    }\n",
              "\n",
              "    [theme=dark] .colab-df-convert {\n",
              "      background-color: #3B4455;\n",
              "      fill: #D2E3FC;\n",
              "    }\n",
              "\n",
              "    [theme=dark] .colab-df-convert:hover {\n",
              "      background-color: #434B5C;\n",
              "      box-shadow: 0px 1px 3px 1px rgba(0, 0, 0, 0.15);\n",
              "      filter: drop-shadow(0px 1px 2px rgba(0, 0, 0, 0.3));\n",
              "      fill: #FFFFFF;\n",
              "    }\n",
              "  </style>\n",
              "\n",
              "    <script>\n",
              "      const buttonEl =\n",
              "        document.querySelector('#df-1603982e-f7d2-4f3c-9c73-c6b8249c02b1 button.colab-df-convert');\n",
              "      buttonEl.style.display =\n",
              "        google.colab.kernel.accessAllowed ? 'block' : 'none';\n",
              "\n",
              "      async function convertToInteractive(key) {\n",
              "        const element = document.querySelector('#df-1603982e-f7d2-4f3c-9c73-c6b8249c02b1');\n",
              "        const dataTable =\n",
              "          await google.colab.kernel.invokeFunction('convertToInteractive',\n",
              "                                                    [key], {});\n",
              "        if (!dataTable) return;\n",
              "\n",
              "        const docLinkHtml = 'Like what you see? Visit the ' +\n",
              "          '<a target=\"_blank\" href=https://colab.research.google.com/notebooks/data_table.ipynb>data table notebook</a>'\n",
              "          + ' to learn more about interactive tables.';\n",
              "        element.innerHTML = '';\n",
              "        dataTable['output_type'] = 'display_data';\n",
              "        await google.colab.output.renderOutput(dataTable, element);\n",
              "        const docLink = document.createElement('div');\n",
              "        docLink.innerHTML = docLinkHtml;\n",
              "        element.appendChild(docLink);\n",
              "      }\n",
              "    </script>\n",
              "  </div>\n",
              "\n",
              "\n",
              "<div id=\"df-50e715d3-a8d1-4c32-8acf-b40b7d1645f8\">\n",
              "  <button class=\"colab-df-quickchart\" onclick=\"quickchart('df-50e715d3-a8d1-4c32-8acf-b40b7d1645f8')\"\n",
              "            title=\"Suggest charts\"\n",
              "            style=\"display:none;\">\n",
              "\n",
              "<svg xmlns=\"http://www.w3.org/2000/svg\" height=\"24px\"viewBox=\"0 0 24 24\"\n",
              "     width=\"24px\">\n",
              "    <g>\n",
              "        <path d=\"M19 3H5c-1.1 0-2 .9-2 2v14c0 1.1.9 2 2 2h14c1.1 0 2-.9 2-2V5c0-1.1-.9-2-2-2zM9 17H7v-7h2v7zm4 0h-2V7h2v10zm4 0h-2v-4h2v4z\"/>\n",
              "    </g>\n",
              "</svg>\n",
              "  </button>\n",
              "\n",
              "<style>\n",
              "  .colab-df-quickchart {\n",
              "      --bg-color: #E8F0FE;\n",
              "      --fill-color: #1967D2;\n",
              "      --hover-bg-color: #E2EBFA;\n",
              "      --hover-fill-color: #174EA6;\n",
              "      --disabled-fill-color: #AAA;\n",
              "      --disabled-bg-color: #DDD;\n",
              "  }\n",
              "\n",
              "  [theme=dark] .colab-df-quickchart {\n",
              "      --bg-color: #3B4455;\n",
              "      --fill-color: #D2E3FC;\n",
              "      --hover-bg-color: #434B5C;\n",
              "      --hover-fill-color: #FFFFFF;\n",
              "      --disabled-bg-color: #3B4455;\n",
              "      --disabled-fill-color: #666;\n",
              "  }\n",
              "\n",
              "  .colab-df-quickchart {\n",
              "    background-color: var(--bg-color);\n",
              "    border: none;\n",
              "    border-radius: 50%;\n",
              "    cursor: pointer;\n",
              "    display: none;\n",
              "    fill: var(--fill-color);\n",
              "    height: 32px;\n",
              "    padding: 0;\n",
              "    width: 32px;\n",
              "  }\n",
              "\n",
              "  .colab-df-quickchart:hover {\n",
              "    background-color: var(--hover-bg-color);\n",
              "    box-shadow: 0 1px 2px rgba(60, 64, 67, 0.3), 0 1px 3px 1px rgba(60, 64, 67, 0.15);\n",
              "    fill: var(--button-hover-fill-color);\n",
              "  }\n",
              "\n",
              "  .colab-df-quickchart-complete:disabled,\n",
              "  .colab-df-quickchart-complete:disabled:hover {\n",
              "    background-color: var(--disabled-bg-color);\n",
              "    fill: var(--disabled-fill-color);\n",
              "    box-shadow: none;\n",
              "  }\n",
              "\n",
              "  .colab-df-spinner {\n",
              "    border: 2px solid var(--fill-color);\n",
              "    border-color: transparent;\n",
              "    border-bottom-color: var(--fill-color);\n",
              "    animation:\n",
              "      spin 1s steps(1) infinite;\n",
              "  }\n",
              "\n",
              "  @keyframes spin {\n",
              "    0% {\n",
              "      border-color: transparent;\n",
              "      border-bottom-color: var(--fill-color);\n",
              "      border-left-color: var(--fill-color);\n",
              "    }\n",
              "    20% {\n",
              "      border-color: transparent;\n",
              "      border-left-color: var(--fill-color);\n",
              "      border-top-color: var(--fill-color);\n",
              "    }\n",
              "    30% {\n",
              "      border-color: transparent;\n",
              "      border-left-color: var(--fill-color);\n",
              "      border-top-color: var(--fill-color);\n",
              "      border-right-color: var(--fill-color);\n",
              "    }\n",
              "    40% {\n",
              "      border-color: transparent;\n",
              "      border-right-color: var(--fill-color);\n",
              "      border-top-color: var(--fill-color);\n",
              "    }\n",
              "    60% {\n",
              "      border-color: transparent;\n",
              "      border-right-color: var(--fill-color);\n",
              "    }\n",
              "    80% {\n",
              "      border-color: transparent;\n",
              "      border-right-color: var(--fill-color);\n",
              "      border-bottom-color: var(--fill-color);\n",
              "    }\n",
              "    90% {\n",
              "      border-color: transparent;\n",
              "      border-bottom-color: var(--fill-color);\n",
              "    }\n",
              "  }\n",
              "</style>\n",
              "\n",
              "  <script>\n",
              "    async function quickchart(key) {\n",
              "      const quickchartButtonEl =\n",
              "        document.querySelector('#' + key + ' button');\n",
              "      quickchartButtonEl.disabled = true;  // To prevent multiple clicks.\n",
              "      quickchartButtonEl.classList.add('colab-df-spinner');\n",
              "      try {\n",
              "        const charts = await google.colab.kernel.invokeFunction(\n",
              "            'suggestCharts', [key], {});\n",
              "      } catch (error) {\n",
              "        console.error('Error during call to suggestCharts:', error);\n",
              "      }\n",
              "      quickchartButtonEl.classList.remove('colab-df-spinner');\n",
              "      quickchartButtonEl.classList.add('colab-df-quickchart-complete');\n",
              "    }\n",
              "    (() => {\n",
              "      let quickchartButtonEl =\n",
              "        document.querySelector('#df-50e715d3-a8d1-4c32-8acf-b40b7d1645f8 button');\n",
              "      quickchartButtonEl.style.display =\n",
              "        google.colab.kernel.accessAllowed ? 'block' : 'none';\n",
              "    })();\n",
              "  </script>\n",
              "</div>\n",
              "\n",
              "  <div id=\"id_7fe01ae0-6965-44b7-8e3b-4ce0bff7db6d\">\n",
              "    <style>\n",
              "      .colab-df-generate {\n",
              "        background-color: #E8F0FE;\n",
              "        border: none;\n",
              "        border-radius: 50%;\n",
              "        cursor: pointer;\n",
              "        display: none;\n",
              "        fill: #1967D2;\n",
              "        height: 32px;\n",
              "        padding: 0 0 0 0;\n",
              "        width: 32px;\n",
              "      }\n",
              "\n",
              "      .colab-df-generate:hover {\n",
              "        background-color: #E2EBFA;\n",
              "        box-shadow: 0px 1px 2px rgba(60, 64, 67, 0.3), 0px 1px 3px 1px rgba(60, 64, 67, 0.15);\n",
              "        fill: #174EA6;\n",
              "      }\n",
              "\n",
              "      [theme=dark] .colab-df-generate {\n",
              "        background-color: #3B4455;\n",
              "        fill: #D2E3FC;\n",
              "      }\n",
              "\n",
              "      [theme=dark] .colab-df-generate:hover {\n",
              "        background-color: #434B5C;\n",
              "        box-shadow: 0px 1px 3px 1px rgba(0, 0, 0, 0.15);\n",
              "        filter: drop-shadow(0px 1px 2px rgba(0, 0, 0, 0.3));\n",
              "        fill: #FFFFFF;\n",
              "      }\n",
              "    </style>\n",
              "    <button class=\"colab-df-generate\" onclick=\"generateWithVariable('df_cairo')\"\n",
              "            title=\"Generate code using this dataframe.\"\n",
              "            style=\"display:none;\">\n",
              "\n",
              "  <svg xmlns=\"http://www.w3.org/2000/svg\" height=\"24px\"viewBox=\"0 0 24 24\"\n",
              "       width=\"24px\">\n",
              "    <path d=\"M7,19H8.4L18.45,9,17,7.55,7,17.6ZM5,21V16.75L18.45,3.32a2,2,0,0,1,2.83,0l1.4,1.43a1.91,1.91,0,0,1,.58,1.4,1.91,1.91,0,0,1-.58,1.4L9.25,21ZM18.45,9,17,7.55Zm-12,3A5.31,5.31,0,0,0,4.9,8.1,5.31,5.31,0,0,0,1,6.5,5.31,5.31,0,0,0,4.9,4.9,5.31,5.31,0,0,0,6.5,1,5.31,5.31,0,0,0,8.1,4.9,5.31,5.31,0,0,0,12,6.5,5.46,5.46,0,0,0,6.5,12Z\"/>\n",
              "  </svg>\n",
              "    </button>\n",
              "    <script>\n",
              "      (() => {\n",
              "      const buttonEl =\n",
              "        document.querySelector('#id_7fe01ae0-6965-44b7-8e3b-4ce0bff7db6d button.colab-df-generate');\n",
              "      buttonEl.style.display =\n",
              "        google.colab.kernel.accessAllowed ? 'block' : 'none';\n",
              "\n",
              "      buttonEl.onclick = () => {\n",
              "        google.colab.notebook.generateWithVariable('df_cairo');\n",
              "      }\n",
              "      })();\n",
              "    </script>\n",
              "  </div>\n",
              "\n",
              "    </div>\n",
              "  </div>\n"
            ]
          },
          "metadata": {},
          "execution_count": 8
        }
      ]
    },
    {
      "cell_type": "code",
      "source": [
        "data = pd.DataFrame()\n",
        "for dis in data_alx:\n",
        "  host=f\"https://discover.search.hereapi.com/v1/discover?apiKey=1Tc-qYVyM6_LuhpAdsF5I30uEohILIAFCaP9e3WLmf0&at=30.04427,31.23525&q=[{dis}]&languages=ar-US\"\n",
        "  text=requests.get(url=host)\n",
        "  text.content\n",
        "  dic = text.json()\n",
        "  data = pd.concat([data, json_normalize(dic['items']) ])\n",
        "df_alx = data"
      ],
      "metadata": {
        "id": "sswIXr1_tnZO"
      },
      "execution_count": 9,
      "outputs": []
    },
    {
      "cell_type": "code",
      "source": [
        "df_alx[\"address.city\"].unique()"
      ],
      "metadata": {
        "colab": {
          "base_uri": "https://localhost:8080/"
        },
        "id": "t3ACKfWntnbe",
        "outputId": "7d681061-5511-4cc5-d110-ba346453c7b6"
      },
      "execution_count": 10,
      "outputs": [
        {
          "output_type": "execute_result",
          "data": {
            "text/plain": [
              "array(['القاهرة', 'القاهرة الجديدة', 'תל אביב', 'الاسكندرية',\n",
              "       'شبرا الخيمة قسم 1', 'مركز الابراهيمية', 'الجيزة', 'العجوزة',\n",
              "       'الوراق', 'تمبدغة', 'مركز الجيزه', 'شبرا الخيمة قسم 2',\n",
              "       'التل الكبير', 'بئر علي بن خليفة', 'حلوان', 'بولاق الدكرور',\n",
              "       'إمبابة', 'مركز قليوب', 'الهرم', 'ابو رديس', 'الدقى', 'العمرانية',\n",
              "       'الدوحة', 'راس الخيمة', 'المضيبي', 'مركز كوم حمادة',\n",
              "       'مركز القناطر الخيريه', 'كرداسة', 'مركز الشهداء', 'مدينة منوف',\n",
              "       'مدينة شبين الكوم', 'مركز قويسنا', 'مدينة سرس الليان', 'العامرية',\n",
              "       'السادس من اكتوبر', 'المنصورة', 'عمان', 'قليوب', 'مركز الزقازيق',\n",
              "       'الصف', 'طنطا', 'بورسعيد', 'جدة', 'مركز كفر الدوار', 'مركز إدكو',\n",
              "       'مركز رشيد', 'دمنهور', 'مركز مطوبس', 'مركز دمنهور', 'دسوق',\n",
              "       'مركز قلين', 'مركز كفر الزيات', 'كفر الشيخ', 'مركز كفر الشيخ',\n",
              "       'مركز قطور', 'مركز تلا', 'كفرنجا الجديدة', 'طرة', 'بيروت', 'صيدا',\n",
              "       'الزاوية', 'حولى', 'المنزلة', 'الباحة', 'مركز دكرنس', 'ميت غمر',\n",
              "       'مركز جمصة', 'أجا', 'مركز بلقاس', 'السنبلاوين', 'مركز شربين',\n",
              "       'مركز طلخا', 'مركز بني عبيد', 'مركز منية النصر', 'مركز ميت سلسبيل',\n",
              "       'مركز تمي الامديد', 'مركز ابو قرقاص', 'مركز نبروه'], dtype=object)"
            ]
          },
          "metadata": {},
          "execution_count": 10
        }
      ]
    },
    {
      "cell_type": "code",
      "source": [
        "df_alx = df_alx[[\"address.label\", \"address.city\"]]\n",
        "values_to_check = values_to_check+ ['شبرا الخيمة قسم 1','الوراق','راس الخيمة','كرداسة','السادس من اكتوبر','תל אביב']\n",
        "df_alx = df_alx[~df_alx['address.city'].isin(values_to_check)]\n",
        "\n",
        "\n",
        "df_alx.dropna(inplace=True)\n",
        "df_alx['label'] = 0\n",
        "df_alx[\"address.city\"].unique()"
      ],
      "metadata": {
        "colab": {
          "base_uri": "https://localhost:8080/"
        },
        "id": "1WNK-3mbtndb",
        "outputId": "8c90c1bb-7191-43c7-c3f6-6ecb4b9525cc"
      },
      "execution_count": 11,
      "outputs": [
        {
          "output_type": "execute_result",
          "data": {
            "text/plain": [
              "array(['الاسكندرية', 'مركز الابراهيمية', 'تمبدغة', 'مركز الجيزه',\n",
              "       'التل الكبير', 'بئر علي بن خليفة', 'مركز قليوب', 'الهرم',\n",
              "       'ابو رديس', 'الدقى', 'الدوحة', 'المضيبي', 'مركز كوم حمادة',\n",
              "       'مركز القناطر الخيريه', 'مركز الشهداء', 'مدينة منوف',\n",
              "       'مدينة شبين الكوم', 'مركز قويسنا', 'مدينة سرس الليان', 'العامرية',\n",
              "       'المنصورة', 'عمان', 'قليوب', 'مركز الزقازيق', 'الصف', 'طنطا',\n",
              "       'بورسعيد', 'جدة', 'مركز كفر الدوار', 'مركز إدكو', 'مركز رشيد',\n",
              "       'دمنهور', 'مركز مطوبس', 'مركز دمنهور', 'دسوق', 'مركز قلين',\n",
              "       'مركز كفر الزيات', 'كفر الشيخ', 'مركز كفر الشيخ', 'مركز قطور',\n",
              "       'مركز تلا', 'كفرنجا الجديدة', 'بيروت', 'صيدا', 'الزاوية', 'حولى',\n",
              "       'المنزلة', 'الباحة', 'مركز دكرنس', 'ميت غمر', 'مركز جمصة', 'أجا',\n",
              "       'مركز بلقاس', 'السنبلاوين', 'مركز شربين', 'مركز طلخا',\n",
              "       'مركز بني عبيد', 'مركز منية النصر', 'مركز ميت سلسبيل',\n",
              "       'مركز تمي الامديد', 'مركز ابو قرقاص', 'مركز نبروه'], dtype=object)"
            ]
          },
          "metadata": {},
          "execution_count": 11
        }
      ]
    },
    {
      "cell_type": "code",
      "source": [
        "data_Frame = pd.concat([df_alx,df_cairo])\n",
        "X = data_Frame['address.label']\n",
        "Y = data_Frame['label']"
      ],
      "metadata": {
        "id": "9jXK682ltnfY"
      },
      "execution_count": 12,
      "outputs": []
    },
    {
      "cell_type": "code",
      "source": [
        "from tensorflow.keras.datasets import imdb #imdb dataset\n",
        "import tensorflow.keras as tfk\n",
        "from tensorflow.keras.layers import Dense, GRU , Flatten , LSTM\n",
        "from tensorflow.keras.models import Sequential\n",
        "from tensorflow.keras.layers import Embedding\n",
        "from tensorflow.keras.preprocessing import sequence\n",
        "import numpy as np\n",
        "from sklearn.model_selection import train_test_split\n",
        "from tensorflow.keras.preprocessing.text import Tokenizer\n",
        "from tensorflow.keras.preprocessing.sequence import pad_sequences"
      ],
      "metadata": {
        "id": "ydgjxXL7tnhV"
      },
      "execution_count": 13,
      "outputs": []
    },
    {
      "cell_type": "code",
      "source": [
        "tokenizer = Tokenizer()\n",
        "tokenizer.fit_on_texts(X)\n",
        "sequences = tokenizer.texts_to_sequences(X)\n",
        "\n",
        "# Padding sequences to ensure uniform length\n",
        "maxlen = 20  # Define your desired sequence length\n",
        "padded_sequences = pad_sequences(sequences, maxlen=maxlen)\n",
        "\n",
        "X_train, X_val, y_train, y_val = train_test_split(padded_sequences, Y, test_size=0.2, random_state=42)\n",
        "\n",
        "word_index = tokenizer.word_index\n",
        "#print(f'Vocabulary: {word_index}')\n",
        "topwords = 5000"
      ],
      "metadata": {
        "id": "-V6jZr32tnlb"
      },
      "execution_count": 14,
      "outputs": []
    },
    {
      "cell_type": "code",
      "source": [
        "model_lstm = Sequential()\n",
        "model_lstm.add(Embedding(topwords, 128))\n",
        "model_lstm.add(LSTM(128, dropout=0.2, recurrent_dropout=0.2))\n",
        "model_lstm.add(Dense(1, activation='sigmoid'))\n",
        "\n",
        "# try using different optimizers and different optimizer configs\n",
        "model_lstm.compile(loss='binary_crossentropy',\n",
        "              optimizer='adam',\n",
        "              metrics=['accuracy'])"
      ],
      "metadata": {
        "id": "kWcB7Pf9gQ1w"
      },
      "execution_count": 15,
      "outputs": []
    },
    {
      "cell_type": "code",
      "source": [
        "model_lstm.fit(X_train,y_train, epochs=10, validation_data=(X_val,y_val))"
      ],
      "metadata": {
        "id": "p824K67PgnCd",
        "colab": {
          "base_uri": "https://localhost:8080/"
        },
        "outputId": "fa097936-0637-4034-814a-8cfeb2ffc01b"
      },
      "execution_count": 16,
      "outputs": [
        {
          "output_type": "stream",
          "name": "stdout",
          "text": [
            "Epoch 1/10\n",
            "7/7 [==============================] - 5s 140ms/step - loss: 0.6685 - accuracy: 0.6616 - val_loss: 0.6835 - val_accuracy: 0.5400\n",
            "Epoch 2/10\n",
            "7/7 [==============================] - 0s 70ms/step - loss: 0.6211 - accuracy: 0.6313 - val_loss: 0.6706 - val_accuracy: 0.5400\n",
            "Epoch 3/10\n",
            "7/7 [==============================] - 0s 70ms/step - loss: 0.5731 - accuracy: 0.6364 - val_loss: 0.5846 - val_accuracy: 0.6000\n",
            "Epoch 4/10\n",
            "7/7 [==============================] - 1s 101ms/step - loss: 0.4524 - accuracy: 0.7576 - val_loss: 0.4546 - val_accuracy: 0.9000\n",
            "Epoch 5/10\n",
            "7/7 [==============================] - 1s 123ms/step - loss: 0.3217 - accuracy: 0.9242 - val_loss: 0.3525 - val_accuracy: 0.9600\n",
            "Epoch 6/10\n",
            "7/7 [==============================] - 1s 124ms/step - loss: 0.2365 - accuracy: 0.9848 - val_loss: 0.3288 - val_accuracy: 0.9000\n",
            "Epoch 7/10\n",
            "7/7 [==============================] - 1s 125ms/step - loss: 0.1626 - accuracy: 1.0000 - val_loss: 0.2617 - val_accuracy: 0.9200\n",
            "Epoch 8/10\n",
            "7/7 [==============================] - 1s 90ms/step - loss: 0.1195 - accuracy: 0.9949 - val_loss: 0.2294 - val_accuracy: 0.9000\n",
            "Epoch 9/10\n",
            "7/7 [==============================] - 0s 69ms/step - loss: 0.0820 - accuracy: 0.9949 - val_loss: 0.1780 - val_accuracy: 0.9600\n",
            "Epoch 10/10\n",
            "7/7 [==============================] - 0s 70ms/step - loss: 0.0453 - accuracy: 1.0000 - val_loss: 0.1588 - val_accuracy: 0.9400\n"
          ]
        },
        {
          "output_type": "execute_result",
          "data": {
            "text/plain": [
              "<keras.src.callbacks.History at 0x7dffd2239ab0>"
            ]
          },
          "metadata": {},
          "execution_count": 16
        }
      ]
    },
    {
      "cell_type": "code",
      "source": [
        "model_lstm.save(\"model_lstm.h5\")"
      ],
      "metadata": {
        "id": "nGXvtikuhxKH",
        "colab": {
          "base_uri": "https://localhost:8080/"
        },
        "outputId": "a55498a2-68d0-4d44-89f5-f007941f686d"
      },
      "execution_count": 17,
      "outputs": [
        {
          "output_type": "stream",
          "name": "stderr",
          "text": [
            "/usr/local/lib/python3.10/dist-packages/keras/src/engine/training.py:3103: UserWarning: You are saving your model as an HDF5 file via `model.save()`. This file format is considered legacy. We recommend using instead the native Keras format, e.g. `model.save('my_model.keras')`.\n",
            "  saving_api.save_model(\n"
          ]
        }
      ]
    },
    {
      "cell_type": "code",
      "source": [
        "sequences = tokenizer.texts_to_sequences(['الاسكندرية - العصافرة - ش 6 اكتوبر'])\n",
        "\n",
        "# Padding sequences to ensure uniform length\n",
        "maxlen = 20  # Define your desired sequence length\n",
        "padded_sequences = pad_sequences(sequences, maxlen=maxlen)\n",
        "model_lstm.predict(padded_sequences)"
      ],
      "metadata": {
        "id": "6F2KE05ciFFB",
        "colab": {
          "base_uri": "https://localhost:8080/"
        },
        "outputId": "94c90e17-7bd3-47ef-d423-de0398e2c534"
      },
      "execution_count": 18,
      "outputs": [
        {
          "output_type": "stream",
          "name": "stdout",
          "text": [
            "1/1 [==============================] - 0s 290ms/step\n"
          ]
        },
        {
          "output_type": "execute_result",
          "data": {
            "text/plain": [
              "array([[0.13178562]], dtype=float32)"
            ]
          },
          "metadata": {},
          "execution_count": 18
        }
      ]
    },
    {
      "cell_type": "code",
      "source": [
        "data_Frame.to_csv(\"data.csv\")"
      ],
      "metadata": {
        "id": "4zXmb3BKiTDp"
      },
      "execution_count": 19,
      "outputs": []
    },
    {
      "cell_type": "code",
      "source": [
        "import pickle\n",
        "\n",
        "# save Tokenizer\n",
        "with open('tokenizer.pickle', 'wb') as handle:\n",
        "    pickle.dump(tokenizer, handle, protocol=pickle.HIGHEST_PROTOCOL)"
      ],
      "metadata": {
        "id": "yk79DfDW-_Lt"
      },
      "execution_count": 20,
      "outputs": []
    },
    {
      "cell_type": "code",
      "source": [
        "with open('tokenizer.pickle', 'rb') as handle:\n",
        "    loaded_tokenizer = pickle.load(handle)"
      ],
      "metadata": {
        "id": "d_1YoBLFAPNY"
      },
      "execution_count": 21,
      "outputs": []
    },
    {
      "cell_type": "code",
      "source": [
        "sequences = loaded_tokenizer.texts_to_sequences(['الاسكندرية - العصافرة - ش 6 اكتوبر'])\n",
        "\n",
        "# Padding sequences to ensure uniform length\n",
        "maxlen = 20  # Define your desired sequence length\n",
        "padded_sequences = pad_sequences(sequences, maxlen=maxlen)"
      ],
      "metadata": {
        "id": "cYusJa8VAP_B"
      },
      "execution_count": 22,
      "outputs": []
    },
    {
      "cell_type": "code",
      "source": [
        "\n",
        "re[0][0]"
      ],
      "metadata": {
        "colab": {
          "base_uri": "https://localhost:8080/"
        },
        "id": "UZGMHmR_AmHc",
        "outputId": "b1432ae9-e2af-4e0c-9094-6fa81b57a751"
      },
      "execution_count": 33,
      "outputs": [
        {
          "output_type": "execute_result",
          "data": {
            "text/plain": [
              "0.13178562"
            ]
          },
          "metadata": {},
          "execution_count": 33
        }
      ]
    },
    {
      "cell_type": "code",
      "source": [],
      "metadata": {
        "id": "GQxFHyj3B5F_"
      },
      "execution_count": 33,
      "outputs": []
    },
    {
      "cell_type": "code",
      "source": [],
      "metadata": {
        "id": "iuovTaQLGN0L"
      },
      "execution_count": null,
      "outputs": []
    }
  ]
}